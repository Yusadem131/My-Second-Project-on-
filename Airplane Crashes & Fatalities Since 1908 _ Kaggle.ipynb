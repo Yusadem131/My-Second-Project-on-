<!DOCTYPE html>
<!-- saved from url=(0087)https://www.kaggle.com/code/abdulakeemyusuf/airplane-crashes-fatalities-since-1908/edit -->
<html lang="en"><head><meta http-equiv="Content-Type" content="text/html; charset=UTF-8"><meta name="viewport" content="width=device-width,initial-scale=1"><link href="./Airplane Crashes &amp; Fatalities Since 1908 _ Kaggle_files/icon" rel="stylesheet"><style>@import url('https://fonts.googleapis.com/css?family=Inter:400,400i,500,500i,600,600i,700,700i');
    @import url("https://use.typekit.net/tql2nih.css");

    html,
    body {
      font-family: Inter, sans-serif;
      height: 100%;
      margin: 0;
    }

    .header {
      padding: 0;
    }

    #root {
      height: 100%;
    }</style><meta name="description" content="The Kaggle Kernels IDE for Data Scientists."><script type="text/javascript" async="" src="./Airplane Crashes &amp; Fatalities Since 1908 _ Kaggle_files/recaptcha__en.js.download" crossorigin="anonymous" integrity="sha384-o1nfdUm9cV7Sx6HxXDsnady1EGmCBTwza/JTA6OSowyOK+wq0YF0+F9jejHVacaR" nonce=""></script><script type="text/javascript" async="" src="./Airplane Crashes &amp; Fatalities Since 1908 _ Kaggle_files/js" nonce=""></script><script type="text/javascript" async="" src="./Airplane Crashes &amp; Fatalities Since 1908 _ Kaggle_files/analytics.js.download" nonce=""></script><script nonce="" defer="defer" src="./Airplane Crashes &amp; Fatalities Since 1908 _ Kaggle_files/notebook-4ddba4d5cfd18219b892.js.download"></script><link href="./Airplane Crashes &amp; Fatalities Since 1908 _ Kaggle_files/notebook-ed6d5a101cc9ce1b34d2.css" rel="stylesheet">

          <script nonce="">window.KAGGLE_JUPYTERLAB_PATH = "/static/dist/jupyterlab/jupyterlab-index-185cde071cd3c4d550ac.html";</script>
          
<title>Airplane Crashes &amp; Fatalities Since 1908 | Kaggle</title>
<meta property="description" content="The Kaggle Notebooks IDE for Data Scientists.">

<style data-styled="active" data-styled-version="5.3.5"></style><style data-jss="" data-meta="MuiTouchRipple">
.MuiTouchRipple-root {
  top: 0;
  left: 0;
  right: 0;
  bottom: 0;
  z-index: 0;
  overflow: hidden;
  position: absolute;
  border-radius: inherit;
  pointer-events: none;
}
.MuiTouchRipple-ripple {
  opacity: 0;
  position: absolute;
}
.MuiTouchRipple-rippleVisible {
  opacity: 0.3;
  animation: MuiTouchRipple-keyframes-enter 550ms cubic-bezier(0.4, 0, 0.2, 1);
  transform: scale(1);
}
.MuiTouchRipple-ripplePulsate {
  animation-duration: 200ms;
}
.MuiTouchRipple-child {
  width: 100%;
  height: 100%;
  display: block;
  opacity: 1;
  border-radius: 50%;
  background-color: currentColor;
}
.MuiTouchRipple-childLeaving {
  opacity: 0;
  animation: MuiTouchRipple-keyframes-exit 550ms cubic-bezier(0.4, 0, 0.2, 1);
}
.MuiTouchRipple-childPulsate {
  top: 0;
  left: 0;
  position: absolute;
  animation: MuiTouchRipple-keyframes-pulsate 2500ms cubic-bezier(0.4, 0, 0.2, 1) 200ms infinite;
}
@-webkit-keyframes MuiTouchRipple-keyframes-enter {
  0% {
    opacity: 0.1;
    transform: scale(0);
  }
  100% {
    opacity: 0.3;
    transform: scale(1);
  }
}
@-webkit-keyframes MuiTouchRipple-keyframes-exit {
  0% {
    opacity: 1;
  }
  100% {
    opacity: 0;
  }
}
@-webkit-keyframes MuiTouchRipple-keyframes-pulsate {
  0% {
    transform: scale(1);
  }
  50% {
    transform: scale(0.92);
  }
  100% {
    transform: scale(1);
  }
}
</style><style data-jss="" data-meta="MuiButtonBase">
.MuiButtonBase-root {
  color: inherit;
  border: 0;
  cursor: pointer;
  margin: 0;
  display: inline-flex;
  outline: 0;
  padding: 0;
  position: relative;
  align-items: center;
  user-select: none;
  border-radius: 0;
  vertical-align: middle;
  -moz-appearance: none;
  justify-content: center;
  text-decoration: none;
  background-color: transparent;
  -webkit-appearance: none;
  -webkit-tap-highlight-color: transparent;
}
.MuiButtonBase-root::-moz-focus-inner {
  border-style: none;
}
.MuiButtonBase-root.Mui-disabled {
  cursor: default;
  pointer-events: none;
}
@media print {
  .MuiButtonBase-root {
    -webkit-print-color-adjust: exact;
  }
}
</style><style data-jss="" data-meta="MuiInputBase">
@-webkit-keyframes mui-auto-fill {}
@-webkit-keyframes mui-auto-fill-cancel {}
.MuiInputBase-root {
  color: rgba(0, 0, 0, 0.87);
  cursor: text;
  display: inline-flex;
  position: relative;
  font-size: 1rem;
  box-sizing: border-box;
  align-items: center;
  font-family: "Roboto", "Helvetica", "Arial", sans-serif;
  font-weight: 400;
  line-height: 1.1876em;
  letter-spacing: 0.00938em;
}
.MuiInputBase-root.Mui-disabled {
  color: rgba(0, 0, 0, 0.38);
  cursor: default;
}
.MuiInputBase-multiline {
  padding: 6px 0 7px;
}
.MuiInputBase-multiline.MuiInputBase-marginDense {
  padding-top: 3px;
}
.MuiInputBase-fullWidth {
  width: 100%;
}
.MuiInputBase-input {
  font: inherit;
  color: currentColor;
  width: 100%;
  border: 0;
  height: 1.1876em;
  margin: 0;
  display: block;
  padding: 6px 0 7px;
  min-width: 0;
  background: none;
  box-sizing: content-box;
  animation-name: mui-auto-fill-cancel;
  letter-spacing: inherit;
  animation-duration: 10ms;
  -webkit-tap-highlight-color: transparent;
}
.MuiInputBase-input::-webkit-input-placeholder {
  color: currentColor;
  opacity: 0.42;
  transition: opacity 200ms cubic-bezier(0.4, 0, 0.2, 1) 0ms;
}
.MuiInputBase-input::-moz-placeholder {
  color: currentColor;
  opacity: 0.42;
  transition: opacity 200ms cubic-bezier(0.4, 0, 0.2, 1) 0ms;
}
.MuiInputBase-input:-ms-input-placeholder {
  color: currentColor;
  opacity: 0.42;
  transition: opacity 200ms cubic-bezier(0.4, 0, 0.2, 1) 0ms;
}
.MuiInputBase-input::-ms-input-placeholder {
  color: currentColor;
  opacity: 0.42;
  transition: opacity 200ms cubic-bezier(0.4, 0, 0.2, 1) 0ms;
}
.MuiInputBase-input:focus {
  outline: 0;
}
.MuiInputBase-input:invalid {
  box-shadow: none;
}
.MuiInputBase-input::-webkit-search-decoration {
  -webkit-appearance: none;
}
.MuiInputBase-input.Mui-disabled {
  opacity: 1;
}
.MuiInputBase-input:-webkit-autofill {
  animation-name: mui-auto-fill;
  animation-duration: 5000s;
}
label[data-shrink=false] + .MuiInputBase-formControl .MuiInputBase-input::-webkit-input-placeholder {
  opacity: 0 !important;
}
label[data-shrink=false] + .MuiInputBase-formControl .MuiInputBase-input::-moz-placeholder {
  opacity: 0 !important;
}
label[data-shrink=false] + .MuiInputBase-formControl .MuiInputBase-input:-ms-input-placeholder {
  opacity: 0 !important;
}
label[data-shrink=false] + .MuiInputBase-formControl .MuiInputBase-input::-ms-input-placeholder {
  opacity: 0 !important;
}
label[data-shrink=false] + .MuiInputBase-formControl .MuiInputBase-input:focus::-webkit-input-placeholder {
  opacity: 0.42;
}
label[data-shrink=false] + .MuiInputBase-formControl .MuiInputBase-input:focus::-moz-placeholder {
  opacity: 0.42;
}
label[data-shrink=false] + .MuiInputBase-formControl .MuiInputBase-input:focus:-ms-input-placeholder {
  opacity: 0.42;
}
label[data-shrink=false] + .MuiInputBase-formControl .MuiInputBase-input:focus::-ms-input-placeholder {
  opacity: 0.42;
}
.MuiInputBase-inputMarginDense {
  padding-top: 3px;
}
.MuiInputBase-inputMultiline {
  height: auto;
  resize: none;
  padding: 0;
}
.MuiInputBase-inputTypeSearch {
  -moz-appearance: textfield;
  -webkit-appearance: textfield;
}
</style><style data-jss="" data-meta="MuiInput">
.MuiInput-root {
  position: relative;
}
label + .MuiInput-formControl {
  margin-top: 16px;
}
.MuiInput-colorSecondary.MuiInput-underline:after {
  border-bottom-color: #f50057;
}
.MuiInput-underline:after {
  left: 0;
  right: 0;
  bottom: 0;
  content: "";
  position: absolute;
  transform: scaleX(0);
  transition: transform 200ms cubic-bezier(0.0, 0, 0.2, 1) 0ms;
  border-bottom: 2px solid #3f51b5;
  pointer-events: none;
}
.MuiInput-underline.Mui-focused:after {
  transform: scaleX(1);
}
.MuiInput-underline.Mui-error:after {
  transform: scaleX(1);
  border-bottom-color: #f44336;
}
.MuiInput-underline:before {
  left: 0;
  right: 0;
  bottom: 0;
  content: "\00a0";
  position: absolute;
  transition: border-bottom-color 200ms cubic-bezier(0.4, 0, 0.2, 1) 0ms;
  border-bottom: 1px solid rgba(0, 0, 0, 0.42);
  pointer-events: none;
}
.MuiInput-underline:hover:not(.Mui-disabled):before {
  border-bottom: 2px solid rgba(0, 0, 0, 0.87);
}
.MuiInput-underline.Mui-disabled:before {
  border-bottom-style: dotted;
}
@media (hover: none) {
  .MuiInput-underline:hover:not(.Mui-disabled):before {
    border-bottom: 1px solid rgba(0, 0, 0, 0.42);
  }
}
</style><style data-jss="" data-meta="MuiButton">
.MuiButton-root {
  color: rgba(0, 0, 0, 0.87);
  padding: 6px 16px;
  font-size: 0.875rem;
  min-width: 64px;
  box-sizing: border-box;
  transition: background-color 250ms cubic-bezier(0.4, 0, 0.2, 1) 0ms,box-shadow 250ms cubic-bezier(0.4, 0, 0.2, 1) 0ms,border 250ms cubic-bezier(0.4, 0, 0.2, 1) 0ms;
  font-family: "Roboto", "Helvetica", "Arial", sans-serif;
  font-weight: 500;
  line-height: 1.75;
  border-radius: 4px;
  letter-spacing: 0.02857em;
  text-transform: uppercase;
}
.MuiButton-root:hover {
  text-decoration: none;
  background-color: rgba(0, 0, 0, 0.04);
}
.MuiButton-root.Mui-disabled {
  color: rgba(0, 0, 0, 0.26);
}
@media (hover: none) {
  .MuiButton-root:hover {
    background-color: transparent;
  }
}
.MuiButton-root:hover.Mui-disabled {
  background-color: transparent;
}
.MuiButton-label {
  width: 100%;
  display: inherit;
  align-items: inherit;
  justify-content: inherit;
}
.MuiButton-text {
  padding: 6px 8px;
}
.MuiButton-textPrimary {
  color: #3f51b5;
}
.MuiButton-textPrimary:hover {
  background-color: rgba(63, 81, 181, 0.04);
}
@media (hover: none) {
  .MuiButton-textPrimary:hover {
    background-color: transparent;
  }
}
.MuiButton-textSecondary {
  color: #f50057;
}
.MuiButton-textSecondary:hover {
  background-color: rgba(245, 0, 87, 0.04);
}
@media (hover: none) {
  .MuiButton-textSecondary:hover {
    background-color: transparent;
  }
}
.MuiButton-outlined {
  border: 1px solid rgba(0, 0, 0, 0.23);
  padding: 5px 15px;
}
.MuiButton-outlined.Mui-disabled {
  border: 1px solid rgba(0, 0, 0, 0.12);
}
.MuiButton-outlinedPrimary {
  color: #3f51b5;
  border: 1px solid rgba(63, 81, 181, 0.5);
}
.MuiButton-outlinedPrimary:hover {
  border: 1px solid #3f51b5;
  background-color: rgba(63, 81, 181, 0.04);
}
@media (hover: none) {
  .MuiButton-outlinedPrimary:hover {
    background-color: transparent;
  }
}
.MuiButton-outlinedSecondary {
  color: #f50057;
  border: 1px solid rgba(245, 0, 87, 0.5);
}
.MuiButton-outlinedSecondary:hover {
  border: 1px solid #f50057;
  background-color: rgba(245, 0, 87, 0.04);
}
.MuiButton-outlinedSecondary.Mui-disabled {
  border: 1px solid rgba(0, 0, 0, 0.26);
}
@media (hover: none) {
  .MuiButton-outlinedSecondary:hover {
    background-color: transparent;
  }
}
.MuiButton-contained {
  color: rgba(0, 0, 0, 0.87);
  box-shadow: 0px 3px 1px -2px rgba(0,0,0,0.2),0px 2px 2px 0px rgba(0,0,0,0.14),0px 1px 5px 0px rgba(0,0,0,0.12);
  background-color: #e0e0e0;
}
.MuiButton-contained:hover {
  box-shadow: 0px 2px 4px -1px rgba(0,0,0,0.2),0px 4px 5px 0px rgba(0,0,0,0.14),0px 1px 10px 0px rgba(0,0,0,0.12);
  background-color: #d5d5d5;
}
.MuiButton-contained.Mui-focusVisible {
  box-shadow: 0px 3px 5px -1px rgba(0,0,0,0.2),0px 6px 10px 0px rgba(0,0,0,0.14),0px 1px 18px 0px rgba(0,0,0,0.12);
}
.MuiButton-contained:active {
  box-shadow: 0px 5px 5px -3px rgba(0,0,0,0.2),0px 8px 10px 1px rgba(0,0,0,0.14),0px 3px 14px 2px rgba(0,0,0,0.12);
}
.MuiButton-contained.Mui-disabled {
  color: rgba(0, 0, 0, 0.26);
  box-shadow: none;
  background-color: rgba(0, 0, 0, 0.12);
}
@media (hover: none) {
  .MuiButton-contained:hover {
    box-shadow: 0px 3px 1px -2px rgba(0,0,0,0.2),0px 2px 2px 0px rgba(0,0,0,0.14),0px 1px 5px 0px rgba(0,0,0,0.12);
    background-color: #e0e0e0;
  }
}
.MuiButton-contained:hover.Mui-disabled {
  background-color: rgba(0, 0, 0, 0.12);
}
.MuiButton-containedPrimary {
  color: #fff;
  background-color: #3f51b5;
}
.MuiButton-containedPrimary:hover {
  background-color: #303f9f;
}
@media (hover: none) {
  .MuiButton-containedPrimary:hover {
    background-color: #3f51b5;
  }
}
.MuiButton-containedSecondary {
  color: #fff;
  background-color: #f50057;
}
.MuiButton-containedSecondary:hover {
  background-color: #c51162;
}
@media (hover: none) {
  .MuiButton-containedSecondary:hover {
    background-color: #f50057;
  }
}
.MuiButton-disableElevation {
  box-shadow: none;
}
.MuiButton-disableElevation:hover {
  box-shadow: none;
}
.MuiButton-disableElevation.Mui-focusVisible {
  box-shadow: none;
}
.MuiButton-disableElevation:active {
  box-shadow: none;
}
.MuiButton-disableElevation.Mui-disabled {
  box-shadow: none;
}
.MuiButton-colorInherit {
  color: inherit;
  border-color: currentColor;
}
.MuiButton-textSizeSmall {
  padding: 4px 5px;
  font-size: 0.8125rem;
}
.MuiButton-textSizeLarge {
  padding: 8px 11px;
  font-size: 0.9375rem;
}
.MuiButton-outlinedSizeSmall {
  padding: 3px 9px;
  font-size: 0.8125rem;
}
.MuiButton-outlinedSizeLarge {
  padding: 7px 21px;
  font-size: 0.9375rem;
}
.MuiButton-containedSizeSmall {
  padding: 4px 10px;
  font-size: 0.8125rem;
}
.MuiButton-containedSizeLarge {
  padding: 8px 22px;
  font-size: 0.9375rem;
}
.MuiButton-fullWidth {
  width: 100%;
}
.MuiButton-startIcon {
  display: inherit;
  margin-left: -4px;
  margin-right: 8px;
}
.MuiButton-startIcon.MuiButton-iconSizeSmall {
  margin-left: -2px;
}
.MuiButton-endIcon {
  display: inherit;
  margin-left: 8px;
  margin-right: -4px;
}
.MuiButton-endIcon.MuiButton-iconSizeSmall {
  margin-right: -2px;
}
.MuiButton-iconSizeSmall > *:first-child {
  font-size: 18px;
}
.MuiButton-iconSizeMedium > *:first-child {
  font-size: 20px;
}
.MuiButton-iconSizeLarge > *:first-child {
  font-size: 22px;
}
</style><style data-jss="" data-meta="MuiFormControl">
.MuiFormControl-root {
  border: 0;
  margin: 0;
  display: inline-flex;
  padding: 0;
  position: relative;
  min-width: 0;
  flex-direction: column;
  vertical-align: top;
}
.MuiFormControl-marginNormal {
  margin-top: 16px;
  margin-bottom: 8px;
}
.MuiFormControl-marginDense {
  margin-top: 8px;
  margin-bottom: 4px;
}
.MuiFormControl-fullWidth {
  width: 100%;
}
</style><style data-jss="" data-meta="MuiTextField">

</style><style data-jss="" data-meta="makeStyles">
.jss1 {
  left: -8px;
  position: relative;
  margin-top: 6px;
  flex-direction: row;
}
.jss2 {
  margin: 2px;
}
.jss3 {
  padding: 2px 7px;
  font-size: 20px;
  font-family: "Inter", sans-serif;
  text-overflow: ellipsis;
}
.jss4 {
  margin: auto 0px auto 6px;
  padding: 0px;
}
.jss5 {
  font-size: 20px;
  visibility: hidden;
  margin-left: 8px;
  white-space: nowrap;
  text-overflow: clip;
}
</style><style data-jss="" data-meta="MuiIconButton">
.MuiIconButton-root {
  flex: 0 0 auto;
  color: rgba(0, 0, 0, 0.54);
  padding: 12px;
  overflow: visible;
  font-size: 1.5rem;
  text-align: center;
  transition: background-color 150ms cubic-bezier(0.4, 0, 0.2, 1) 0ms;
  border-radius: 50%;
}
.MuiIconButton-root:hover {
  background-color: rgba(0, 0, 0, 0.04);
}
.MuiIconButton-root.Mui-disabled {
  color: rgba(0, 0, 0, 0.26);
  background-color: transparent;
}
@media (hover: none) {
  .MuiIconButton-root:hover {
    background-color: transparent;
  }
}
.MuiIconButton-edgeStart {
  margin-left: -12px;
}
.MuiIconButton-sizeSmall.MuiIconButton-edgeStart {
  margin-left: -3px;
}
.MuiIconButton-edgeEnd {
  margin-right: -12px;
}
.MuiIconButton-sizeSmall.MuiIconButton-edgeEnd {
  margin-right: -3px;
}
.MuiIconButton-colorInherit {
  color: inherit;
}
.MuiIconButton-colorPrimary {
  color: #3f51b5;
}
.MuiIconButton-colorPrimary:hover {
  background-color: rgba(63, 81, 181, 0.04);
}
@media (hover: none) {
  .MuiIconButton-colorPrimary:hover {
    background-color: transparent;
  }
}
.MuiIconButton-colorSecondary {
  color: #f50057;
}
.MuiIconButton-colorSecondary:hover {
  background-color: rgba(245, 0, 87, 0.04);
}
@media (hover: none) {
  .MuiIconButton-colorSecondary:hover {
    background-color: transparent;
  }
}
.MuiIconButton-sizeSmall {
  padding: 3px;
  font-size: 1.125rem;
}
.MuiIconButton-label {
  width: 100%;
  display: flex;
  align-items: inherit;
  justify-content: inherit;
}
</style><style data-jss="" data-meta="makeStyles">
.jss6 {
  padding: 5px;
}
</style><script id="google-recaptcha-v3" src="./Airplane Crashes &amp; Fatalities Since 1908 _ Kaggle_files/api.js.download"></script><style data-react-tooltip="true">.__react_component_tooltip {
  border-radius: 3px;
  display: inline-block;
  font-size: 13px;
  left: -999em;
  opacity: 0;
  padding: 8px 21px;
  position: fixed;
  pointer-events: none;
  transition: opacity 0.3s ease-out;
  top: -999em;
  visibility: hidden;
  z-index: 999;
}
.__react_component_tooltip.allow_hover, .__react_component_tooltip.allow_click {
  pointer-events: auto;
}
.__react_component_tooltip::before, .__react_component_tooltip::after {
  content: "";
  width: 0;
  height: 0;
  position: absolute;
}
.__react_component_tooltip.show {
  opacity: 0.9;
  margin-top: 0;
  margin-left: 0;
  visibility: visible;
}
.__react_component_tooltip.place-top::before {
  border-left: 10px solid transparent;
  border-right: 10px solid transparent;
  bottom: -8px;
  left: 50%;
  margin-left: -10px;
}
.__react_component_tooltip.place-bottom::before {
  border-left: 10px solid transparent;
  border-right: 10px solid transparent;
  top: -8px;
  left: 50%;
  margin-left: -10px;
}
.__react_component_tooltip.place-left::before {
  border-top: 6px solid transparent;
  border-bottom: 6px solid transparent;
  right: -8px;
  top: 50%;
  margin-top: -5px;
}
.__react_component_tooltip.place-right::before {
  border-top: 6px solid transparent;
  border-bottom: 6px solid transparent;
  left: -8px;
  top: 50%;
  margin-top: -5px;
}
.__react_component_tooltip .multi-line {
  display: block;
  padding: 2px 0;
  text-align: center;
}</style><link id="dynamic-favicon" rel="shortcut icon" href="https://www.kaggle.com/favicon.ico"></head><body class=""><div id="root"><div style="--mdc-theme-on-primary:#fff; --mdc-theme-on-surface:rgba(0, 0, 0, 0.87); --mdc-theme-text-primary-on-background:rgba(0, 0, 0, 0.87); --mdc-theme-text-secondary-on-background:rgba(0, 0, 0, 0.54); --mdc-theme-text-hint-on-background:rgba(0, 0, 0, 0.38); --mdc-theme-text-disabled-on-background:rgba(0, 0, 0, 0.38); --mdc-theme-text-icon-on-background:rgba(0, 0, 0, 0.38); --mdc-theme-primary:#20BEFF; --mdc-theme-error:#F58B8A; --mdc-theme-background:#F8F8F8; --mdc-theme-surface:#fff; --mdc-theme-primary-bg:#20BEFF; --mdc-theme-secondary-bg:#919294;"><div tabindex="-1" style="outline: none; height: inherit;"><div class="sc-djUGQo sc-igHpSv cHNBlV dgLDt"><div class="sc-IIEeM kQWLGf"><div class="sc-eXBvqI kcMyo"><div class="sc-iFwKgL kkmsVD"><button aria-label="menu" class="sc-jSMfEi bWdumZ undefined google-material-icons">menu</button></div><a href="https://www.kaggle.com/code/abdulakeemyusuf/airplane-crashes-fatalities-since-1908/edit#site-content" class="sc-fmrZth fPIrjc">Skip to<br>content</a><div class="sc-iqGgem clzILw"><a href="https://www.kaggle.com/"><img src="./Airplane Crashes &amp; Fatalities Since 1908 _ Kaggle_files/site-logo.svg" alt="Kaggle" class="sc-gkJlnC esSEyq"></a></div></div></div><div class="sc-gGnURB hIvUYM"><button class="sc-jhzXDd iztXCq"><svg width="36" height="36" viewBox="0 0 36 36" fill="none" xmlns="http://www.w3.org/2000/svg" style="flex-shrink: 0;"><path fill-rule="evenodd" clip-rule="evenodd" d="M20 30L20 16L16 20L16 30L20 30Z" fill="#20BEFF"></path><path fill-rule="evenodd" clip-rule="evenodd" d="M20 20L30 20L30 16L20 16L20 20Z" fill="#20BEFF"></path><path fill-rule="evenodd" clip-rule="evenodd" d="M16 20L20 16L15.937 16L6 16L6 20L16 20Z" fill="#20BEFF"></path><rect x="20" y="16" width="4" height="10" transform="rotate(-180 20 16)" fill="#20BEFF"></rect></svg><span class="sc-ezWOiH sc-bZkfAO sc-hjQCSK fuNBHd kxbrKq cawZoO">Create</span></button><div aria-hidden="true" class="mdc-menu sc-hNKHps jcYbTn sc-bSakgD iCjPcr mdc-menu-surface" style="transform-origin: left top; left: 0px; top: 0px; max-height: 625px;"><div role="menu" class="mdc-list mdc-menu__items mdc-list"><div role="menuitem" tabindex="0" class="sc-gITdmR jTHIvj mdc-ripple-upgraded sc-gITdmR jTHIvj mdc-list-item"><div class="sc-fIavCj DfIAO"><i sizevalue="24px" class="rmwc-icon google-material-icons sc-gKXOVf jWA-DLP sc-evrZIY elCeHP">code</i><p class="sc-cxabCf sc-llJcti bGyNSd hMXWEN">New Notebook</p></div></div><div role="menuitem" tabindex="0" class="sc-gITdmR jTHIvj mdc-ripple-upgraded sc-gITdmR jTHIvj mdc-list-item"><div class="sc-fIavCj DfIAO"><i sizevalue="24px" class="rmwc-icon google-material-icons sc-gKXOVf jWA-DLP sc-evrZIY elCeHP">table_chart</i><p class="sc-cxabCf sc-llJcti bGyNSd hMXWEN">New Dataset</p></div></div><div role="menuitem" tabindex="0" class="sc-gITdmR jTHIvj mdc-ripple-upgraded sc-gITdmR jTHIvj mdc-list-item"><div class="sc-fIavCj DfIAO"><i sizevalue="24px" class="rmwc-icon google-material-icons sc-gKXOVf jWA-DLP sc-evrZIY elCeHP">emoji_events</i><p class="sc-cxabCf sc-llJcti bGyNSd hMXWEN">New Competition</p></div></div></div></div></div><div class="sc-iuStju rttCO"><div class="sc-ddcaxn ijUHW"><div class="sc-iXxrte iVtRHC"><div class="sc-hZgfyJ gKkLoc"><div class="sc-cwpsFg fMYhIW"><div class="sc-cLFqLo ivNXjb"><i emphasis="low" sizevalue="24px" class="rmwc-icon google-material-icons sc-gKXOVf kqAYoQ sc-afnQL CGesW">search</i><input placeholder="Search" aria-label="Search" class="sc-iJkHyd fZfYDG" value=""></div></div></div><ul class="km-list"><li class="sc-lbxAil bibdZV"><div class="sc-iNWwEs iYaBFN sc-edUIhV dDKwOm"><a class="sc-ehmTmK hHEGzd" href="https://www.kaggle.com/"><i emphasis="low" sizevalue="24px" class="rmwc-icon google-material-icons sc-gKXOVf kqAYoQ sc-jmnVvD bZOpRG">explore</i><p class="sc-bBrHrO sc-ivTmOn dsQgUo DPcjy" style="padding-left: 20px;">Home</p></a></div></li><li class="sc-lbxAil bibdZV"><div class="sc-iNWwEs iYaBFN sc-edUIhV dDKwOm"><a class="sc-ehmTmK hHEGzd" href="https://www.kaggle.com/competitions"><i emphasis="low" sizevalue="24px" class="rmwc-icon google-material-icons sc-gKXOVf kqAYoQ sc-jmnVvD bZOpRG">emoji_events</i><p class="sc-bBrHrO sc-ivTmOn dsQgUo DPcjy" style="padding-left: 20px;">Competitions</p></a></div></li><li class="sc-lbxAil bibdZV"><div class="sc-iNWwEs iYaBFN sc-edUIhV dDKwOm"><a class="sc-ehmTmK hHEGzd" href="https://www.kaggle.com/datasets"><i emphasis="low" sizevalue="24px" class="rmwc-icon google-material-icons sc-gKXOVf kqAYoQ sc-jmnVvD bZOpRG">table_chart</i><p class="sc-bBrHrO sc-ivTmOn dsQgUo DPcjy" style="padding-left: 20px;">Datasets</p></a></div></li><li class="sc-lbxAil bibdZV"><div class="sc-iNWwEs ezKwHr sc-edUIhV dDKwOm"><a class="sc-ehmTmK hHEGzd" href="https://www.kaggle.com/code"><i emphasis="high" sizevalue="24px" class="rmwc-icon google-material-icons sc-gKXOVf jWA-DLP sc-jmnVvD bZOpRG">code</i><p class="sc-bBrHrO sc-ivTmOn gdFqSP DPcjy" style="padding-left: 20px;">Code</p><div class="sc-jvLaUc jNdnYH"></div></a></div></li><li class="sc-lbxAil bibdZV"><div class="sc-iNWwEs iYaBFN sc-edUIhV dDKwOm"><a class="sc-ehmTmK hHEGzd" href="https://www.kaggle.com/discussion"><i emphasis="low" sizevalue="24px" class="rmwc-icon google-material-icons sc-gKXOVf kqAYoQ sc-jmnVvD bZOpRG">comment</i><p class="sc-bBrHrO sc-ivTmOn dsQgUo DPcjy" style="padding-left: 20px;">Discussions</p></a></div></li><li class="sc-lbxAil bibdZV"><div class="sc-iNWwEs iYaBFN sc-edUIhV dDKwOm"><a class="sc-ehmTmK hHEGzd" href="https://www.kaggle.com/learn"><i emphasis="low" sizevalue="24px" class="rmwc-icon google-material-icons sc-gKXOVf kqAYoQ sc-jmnVvD bZOpRG">school</i><p class="sc-bBrHrO sc-ivTmOn dsQgUo DPcjy" style="padding-left: 20px;">Courses</p></a></div></li><li class="sc-lbxAil bibdZV"><div class="sc-iNWwEs iYaBFN sc-edUIhV dDKwOm"><a class="sc-ehmTmK hHEGzd" href="https://www.kaggle.com/code/abdulakeemyusuf/airplane-crashes-fatalities-since-1908/edit#"><i emphasis="low" sizevalue="24px" class="rmwc-icon google-material-icons sc-gKXOVf kqAYoQ sc-jmnVvD bZOpRG">expand_more</i><p class="sc-bBrHrO sc-ivTmOn dsQgUo DPcjy" style="padding-left: 20px;">More</p></a></div></li></ul></div></div><div class="sc-egNfGp gbfhXx"><div class="mdc-menu-surface--anchor"><button class="sc-crPXZH ksPJVe"><div class="sc-emzajo iStZkz"><i emphasis="high" sizevalue="24px" class="rmwc-icon google-material-icons sc-gKXOVf jWA-DLP sc-bqepDp gcGhjc">auto_awesome_motion</i><div color="#FAE041" class="sc-XIDsO ecrmQm">1</div></div><p class="sc-bBrHrO sc-ivTmOn sc-kzQCLi dsQgUo DPcjy eRymiw">View Active Events</p></button></div></div></div></div><div data-testid="searchContainer" class="sc-juegsh hRpsmL"><div></div><div class="sc-gzUGIM bDkTqe"><div></div></div></div><div id="site-content" class="sc-itUGML eSilfE"><div class="sc-DdwlG jpKEPu"></div><div data-testid="notebook-editor-render-tid" class="sc-dzXpmh hvQasJ"><div class="sc-gwJOJi jptmOj"><div></div><div class="sc-dApedj jiqTnJ"><div class="sc-tjLFZ cMNqDE"><button aria-label="menu" class="sc-jSMfEi bWdumZ undefined google-material-icons">menu</button></div><div class="sc-gklEiM jpDfLn"><div class="sc-hTrjEa eOtRut"><div class="MuiFormControl-root jss1" aria-describedby="component-error-text"><div class="sc-drHdxQ iLopDj"><div class="sc-gzcill bNZGIW"><div class="MuiFormControl-root MuiTextField-root sc-lgfUwS bNOHth jss2 MuiFormControl-fullWidth"><div class="MuiInputBase-root MuiInput-root MuiInputBase-fullWidth MuiInput-fullWidth MuiInputBase-formControl MuiInput-formControl"><input aria-invalid="false" autocomplete="off" id="notebook-title-input" type="text" maxlength="50" class="MuiInputBase-input MuiInput-input jss3" value="Airplane Crashes &amp; Fatalities Since 1908"></div></div></div><div class="jss5">Airplane Crashes &amp; Fatalities Since 1908_</div></div></div><div class="sc-gbrkvF bTVDFX">Draft saved</div></div><div class="sc-dnQTCN cqRFMK"><div class="sc-kIuWHm hSKZZW"><button class="MuiButtonBase-root MuiButton-root MuiButton-text sc-hFjzN figbTg" tabindex="0" type="button"><span class="MuiButton-label">File</span></button><button class="MuiButtonBase-root MuiButton-root MuiButton-text sc-hFjzN figbTg" tabindex="0" type="button"><span class="MuiButton-label">Edit</span></button><button class="MuiButtonBase-root MuiButton-root MuiButton-text sc-hFjzN figbTg" tabindex="0" type="button"><span class="MuiButton-label">View</span></button><button class="MuiButtonBase-root MuiButton-root MuiButton-text sc-hFjzN figbTg" tabindex="0" type="button"><span class="MuiButton-label">Run</span></button><button class="MuiButtonBase-root MuiButton-root MuiButton-text sc-hFjzN figbTg" tabindex="0" type="button"><span class="MuiButton-label">Add-ons</span></button><button class="MuiButtonBase-root MuiButton-root MuiButton-text sc-hFjzN figbTg" tabindex="0" type="button"><span class="MuiButton-label">Help</span></button></div></div></div><div class="sc-cTWfIk jtyfhv"><button class="sc-gUAEMC eFCtaI sc-cYfpLr jkrPeR" tabindex="0" role="button"><i color="#202124" sizevalue="18px" class="rmwc-icon google-material-icons sc-gKXOVf jWACgA">people</i><span class="sc-gXmSlM sc-cCsOjp cKhlzA piYDj">Share</span></button></div><div class="sc-fMSvki gMjpyh"><div class="sc-dwLEzm jSvpRy" data-tip="true" data-for="tooltip_components_f9c3f7d6-9431-466a-9946-8035ee54fcb3" currentitem="false" style="vertical-align: top;"><button class="sc-gUAEMC cWQmIJ sc-cQxKEj QbnlB" tabindex="0" role="button"><i color="#FFFFFF" sizevalue="18px" class="rmwc-icon google-material-icons sc-gKXOVf iXgWvr">update</i><span class="sc-gXmSlM sc-cCsOjp cKhlzA piYDj">Save Version</span></button><div class="__react_component_tooltip t05d58df4-ac8b-4662-a776-b4738226c2c2 place-bottom type-dark react-tooltip" id="tooltip_components_f9c3f7d6-9431-466a-9946-8035ee54fcb3" data-id="tooltip" style="left: 985px; top: 52px;"><style aria-hidden="true">
  	.t05d58df4-ac8b-4662-a776-b4738226c2c2 {
	    color: #fff;
	    background: #222;
	    border: 1px solid transparent;
  	}

  	.t05d58df4-ac8b-4662-a776-b4738226c2c2.place-top {
        margin-top: -10px;
    }
    .t05d58df4-ac8b-4662-a776-b4738226c2c2.place-top::before {
        border-top: 8px solid transparent;
    }
    .t05d58df4-ac8b-4662-a776-b4738226c2c2.place-top::after {
        border-left: 8px solid transparent;
        border-right: 8px solid transparent;
        bottom: -6px;
        left: 50%;
        margin-left: -8px;
        border-top-color: #222;
        border-top-style: solid;
        border-top-width: 6px;
    }

    .t05d58df4-ac8b-4662-a776-b4738226c2c2.place-bottom {
        margin-top: 10px;
    }
    .t05d58df4-ac8b-4662-a776-b4738226c2c2.place-bottom::before {
        border-bottom: 8px solid transparent;
    }
    .t05d58df4-ac8b-4662-a776-b4738226c2c2.place-bottom::after {
        border-left: 8px solid transparent;
        border-right: 8px solid transparent;
        top: -6px;
        left: 50%;
        margin-left: -8px;
        border-bottom-color: #222;
        border-bottom-style: solid;
        border-bottom-width: 6px;
    }

    .t05d58df4-ac8b-4662-a776-b4738226c2c2.place-left {
        margin-left: -10px;
    }
    .t05d58df4-ac8b-4662-a776-b4738226c2c2.place-left::before {
        border-left: 8px solid transparent;
    }
    .t05d58df4-ac8b-4662-a776-b4738226c2c2.place-left::after {
        border-top: 5px solid transparent;
        border-bottom: 5px solid transparent;
        right: -6px;
        top: 50%;
        margin-top: -4px;
        border-left-color: #222;
        border-left-style: solid;
        border-left-width: 6px;
    }

    .t05d58df4-ac8b-4662-a776-b4738226c2c2.place-right {
        margin-left: 10px;
    }
    .t05d58df4-ac8b-4662-a776-b4738226c2c2.place-right::before {
        border-right: 8px solid transparent;
    }
    .t05d58df4-ac8b-4662-a776-b4738226c2c2.place-right::after {
        border-top: 5px solid transparent;
        border-bottom: 5px solid transparent;
        left: -6px;
        top: 50%;
        margin-top: -4px;
        border-right-color: #222;
        border-right-style: solid;
        border-right-width: 6px;
    }
  </style><div class="sc-TRNrF ikcdev">Save a new version of your work.</div></div></div><div class="sc-dwLEzm jSvpRy" data-tip="true" data-for="tooltip_components_31351545-7b7c-4e93-af9a-af1a66a309ce" currentitem="false" style="vertical-align: top;"><button class="sc-gUAEMC hfoKba sc-fAukJM jmAEfq" tabindex="0" role="button"><span class="sc-gXmSlM sc-cCsOjp cKhlzA piYDj">0</span></button><div class="__react_component_tooltip t4e407c7c-7a6a-430c-8807-8250704b2981 place-bottom type-dark" id="tooltip_components_31351545-7b7c-4e93-af9a-af1a66a309ce" data-id="tooltip"><style aria-hidden="true">
  	.t4e407c7c-7a6a-430c-8807-8250704b2981 {
	    color: #fff;
	    background: #222;
	    border: 1px solid transparent;
  	}

  	.t4e407c7c-7a6a-430c-8807-8250704b2981.place-top {
        margin-top: -10px;
    }
    .t4e407c7c-7a6a-430c-8807-8250704b2981.place-top::before {
        border-top: 8px solid transparent;
    }
    .t4e407c7c-7a6a-430c-8807-8250704b2981.place-top::after {
        border-left: 8px solid transparent;
        border-right: 8px solid transparent;
        bottom: -6px;
        left: 50%;
        margin-left: -8px;
        border-top-color: #222;
        border-top-style: solid;
        border-top-width: 6px;
    }

    .t4e407c7c-7a6a-430c-8807-8250704b2981.place-bottom {
        margin-top: 10px;
    }
    .t4e407c7c-7a6a-430c-8807-8250704b2981.place-bottom::before {
        border-bottom: 8px solid transparent;
    }
    .t4e407c7c-7a6a-430c-8807-8250704b2981.place-bottom::after {
        border-left: 8px solid transparent;
        border-right: 8px solid transparent;
        top: -6px;
        left: 50%;
        margin-left: -8px;
        border-bottom-color: #222;
        border-bottom-style: solid;
        border-bottom-width: 6px;
    }

    .t4e407c7c-7a6a-430c-8807-8250704b2981.place-left {
        margin-left: -10px;
    }
    .t4e407c7c-7a6a-430c-8807-8250704b2981.place-left::before {
        border-left: 8px solid transparent;
    }
    .t4e407c7c-7a6a-430c-8807-8250704b2981.place-left::after {
        border-top: 5px solid transparent;
        border-bottom: 5px solid transparent;
        right: -6px;
        top: 50%;
        margin-top: -4px;
        border-left-color: #222;
        border-left-style: solid;
        border-left-width: 6px;
    }

    .t4e407c7c-7a6a-430c-8807-8250704b2981.place-right {
        margin-left: 10px;
    }
    .t4e407c7c-7a6a-430c-8807-8250704b2981.place-right::before {
        border-right: 8px solid transparent;
    }
    .t4e407c7c-7a6a-430c-8807-8250704b2981.place-right::after {
        border-top: 5px solid transparent;
        border-bottom: 5px solid transparent;
        left: -6px;
        top: 50%;
        margin-top: -4px;
        border-right-color: #222;
        border-right-style: solid;
        border-right-width: 6px;
    }
  </style><div class="sc-TRNrF ikcdev">Show versions</div></div></div></div><div class="sc-eWWyYb bOlgvW"><button aria-label="Toggle sidebar visibility" title="Toggle sidebar visibility" class="sc-jSMfEi bWdumZ undefined google-material-icons">last_page</button></div></div></div><div class="sc-dAIixb knQlva"><div class="sc-fwZfOe dqqfdK"><div mode="column" class="sc-eyHTTJ gvMgMA"><div class="sc-iiNSSV cIlFMV"><div class="sc-bVFNGH gLfQtR"><div class="sc-kZPSHH lnmxkr"><div class="sc-kuYQrC cLJjqw"><button class="sc-eItTMj sc-kTmzSA jGmoFa xoebY" title="Add cell"><i sizevalue="24px" class="rmwc-icon google-material-icons sc-gKXOVf jWA-DLP">add</i></button><button class="sc-eItTMj sc-kTmzSA jGmoFa xoebY" title="Delete cell"><i sizevalue="24px" class="rmwc-icon google-material-icons sc-gKXOVf jWA-DLP">delete</i></button><div class="sc-kJPuub hllvYl"></div><button class="sc-eItTMj sc-kTmzSA jGmoFa xoebY" title="Cut cell"><i sizevalue="24px" class="rmwc-icon google-material-icons sc-gKXOVf jWA-DLP">content_cut</i></button><button class="sc-eItTMj sc-kTmzSA jGmoFa xoebY" title="Copy cell"><i sizevalue="24px" class="rmwc-icon google-material-icons sc-gKXOVf jWA-DLP">content_copy</i></button><button class="sc-eItTMj sc-kTmzSA jGmoFa xoebY" title="Paste cell"><i sizevalue="24px" class="rmwc-icon google-material-icons sc-gKXOVf jWA-DLP">content_paste</i></button><div class="sc-kJPuub hllvYl"></div><button class="sc-eItTMj sc-kTmzSA jGmoFa xoebY" title="Run current cell"><i sizevalue="24px" class="rmwc-icon google-material-icons sc-gKXOVf jWA-DLP">play_arrow</i></button><button class="sc-eItTMj sc-kTmzSA jGmoFa xoebY labeled" title="Run all"><i sizevalue="24px" class="rmwc-icon google-material-icons sc-gKXOVf jWA-DLP">fast_forward</i><div class="sc-fBwhgt blsqQK">Run All</div></button><div class="sc-kJPuub hllvYl"></div><div class="mdc-menu-surface--anchor"><button class="sc-gUAEMC lfsZqI" tabindex="0" role="button"><span class="sc-gXmSlM sc-cCsOjp cKhlzA piYDj">Markdown</span><i color="#202124" sizevalue="18px" class="rmwc-icon google-material-icons sc-gKXOVf jWACgA">arrow_drop_down</i></button></div></div><div class="sc-diYIgC ferfSv"></div><button class="sc-eItTMj sc-gMIrBl jGmoFa dgBgwi"><div class="sc-kACOFk gHgWiS"><div class="sc-eA-DzvL jJFpLa"><i color="#42E3BB" sizevalue="1.125em" title="Running" verticalalign="-0.125em" class="rmwc-icon google-material-icons sc-gKXOVf kIIDsq">circle</i><div class="sc-jStShS jHeYxf">Draft Session</div></div><div class="sc-fiMvTd hZXa-dw">(0m)</div></div><div title="Disk Space Usage" class="sc-iwoqQi dyIjEL"><div class="sc-dexYeb kRIFWO">HDD</div><div class="sc-gVUVPo kqIsFQ"><div value="57344" max="20957446144" class="sc-bEeDdh eIbYxd"></div></div></div><div class="sc-klmQzc goGKdw"></div><div title="CPU Usage" class="sc-iwoqQi dyIjEL"><div class="sc-dexYeb kRIFWO">CPU</div><div class="sc-gVUVPo kqIsFQ"><div value="0" max="100" class="sc-bEeDdh jgVvm"></div></div></div><div class="sc-klmQzc goGKdw"></div><div title="RAM Usage" class="sc-iwoqQi dyIjEL"><div class="sc-dexYeb kRIFWO">RAM</div><div class="sc-gVUVPo kqIsFQ"><div value="647565312" max="17179869184" class="sc-bEeDdh FHGEX"></div></div></div></button><div class="sc-bxdjLI jzrYDm"><button class="sc-eItTMj sc-kTmzSA jGmoFa xoebY" title="Stop session"><i sizevalue="24px" class="rmwc-icon google-material-icons sc-gKXOVf jWA-DLP">power_settings_new</i></button><button class="sc-eItTMj sc-kTmzSA jGmoFa xoebY" title="Factory reset"><i sizevalue="24px" class="rmwc-icon google-material-icons sc-gKXOVf jWA-DLP">loop</i></button><button class="sc-eItTMj sc-kTmzSA jGmoFa xoebY" title="More"><i sizevalue="24px" class="rmwc-icon google-material-icons sc-gKXOVf jWA-DLP">more_vert</i></button></div></div><div class="sc-hrtsrO hUDmZL"><div class="sc-hYbzA-d jRqTjy"></div><div class="sc-nnIRd irrsvb" style="display: flex;" data-testid="notebook-editor-jl-frame-render-tid"><iframe name="" class="" src="./Airplane Crashes &amp; Fatalities Since 1908 _ Kaggle_files/jupyterlab-index-185cde071cd3c4d550ac.html"></iframe></div><div aria-live="assertive" aria-atomic="true" aria-hidden="true" class="sc-kOZHUs hynIoa mdc-snackbar mdc-snackbar--leading"><div class="mdc-snackbar__surface"><div role="status" aria-live="polite" class="mdc-snackbar__label"><div style="display: none;"></div></div><div class="mdc-snackbar__actions"></div></div></div></div><div class="sc-kHneYr kgjdvE sc-dTQRDE ekJEOI"><div class="sc-gOPDNC cJTIeK"><div _size="xlarge" class="rmwc-circular-progress rmwc-circular-progress--size-xlarge rmwc-circular-progress--indeterminate rmwc-circular-progress--thickerstroke"><svg class="rmwc-circular-progress__circle" viewBox="0 0 48 48"><circle class="rmwc-circular-progress__path" cx="24" cy="24" r="20"></circle></svg></div></div><div class="sc-ggpVxc hzLose"><div class="sc-cWzopr iIgekk">Creating Save &amp; Run All Version</div><div class="sc-ktxwDy gtebBo"></div></div><div class="sc-eHIRxx Ykcek"></div><div class="sc-PlqmI fCKMWw"><button aria-label="close" class="sc-jSMfEi bWdumZ sc-vmsFN kaEdSB google-material-icons">close</button><button class="sc-gUAEMC eQjrBb" tabindex="0" role="button"><span class="sc-gXmSlM sc-cCsOjp cKhlzA piYDj">Stop</span></button></div></div></div></div></div></div><div class="sc-dkHWjp hDWfGv"><div class="sc-hKdnnL kgGgDA" style="position: relative; flex-basis: 300px; display: flex; flex-direction: row; max-height: 100%; height: 100%;"><div direction="horizontal" class="sc-liHMlC ifaNcV"><div role="separator" aria-orientation="horizontal"></div></div><div style="width: 300px;"><div class="sc-hGzUJM flMPPV"><div class="sc-bGpPMD dBWUMB"><div role="button" class="sc-gchOna jKPfvI"><div class="sc-egFLrJ gRAqtC">Data</div><div class="sc-iCxJSg EOCOf"><button class="sc-gUAEMC eFCtaI" tabindex="0" role="button"><i color="#202124" sizevalue="18px" class="rmwc-icon google-material-icons sc-gKXOVf jWACgA">add</i><span class="sc-gXmSlM sc-cCsOjp cKhlzA piYDj">Add data</span></button></div><div class="sc-KsaEj dGIgjT"><button class="MuiButtonBase-root MuiIconButton-root jss6" tabindex="0" type="button" title="Expand Data box" style="float: right;"><span class="MuiIconButton-label"><i sizevalue="24px" class="rmwc-icon google-material-icons sc-gKXOVf jWA-DLP">keyboard_arrow_down</i></span><span class="MuiTouchRipple-root"></span></button></div></div></div><div class="sc-bGpPMD dBWUMB"><div role="button" class="sc-gchOna jKPfvI"><div class="sc-egFLrJ gRAqtC">Settings</div><div class="sc-iCxJSg EOCOf"></div><div class="sc-KsaEj dGIgjT"><button class="MuiButtonBase-root MuiIconButton-root jss6" tabindex="0" type="button" title="Expand Settings box" style="float: right;"><span class="MuiIconButton-label"><i sizevalue="24px" class="rmwc-icon google-material-icons sc-gKXOVf jWA-DLP">keyboard_arrow_down</i></span><span class="MuiTouchRipple-root"></span></button></div></div></div><div class="sc-bGpPMD dBWUMB"><div role="button" class="sc-gchOna jKPfvI"><div class="sc-egFLrJ gRAqtC">Schedule a notebook run</div><div class="sc-iCxJSg EOCOf"></div><div class="sc-KsaEj dGIgjT"><button class="MuiButtonBase-root MuiIconButton-root jss6" tabindex="0" type="button" title="Expand Schedule a notebook run box" style="float: right;"><span class="MuiIconButton-label"><i sizevalue="24px" class="rmwc-icon google-material-icons sc-gKXOVf jWA-DLP">keyboard_arrow_down</i></span><span class="MuiTouchRipple-root"></span></button></div></div></div><div class="sc-bGpPMD dBWUMB"><div role="button" class="sc-gchOna jKPfvI"><div class="sc-egFLrJ gRAqtC">Code Help</div><div class="sc-iCxJSg EOCOf"></div><div class="sc-KsaEj dGIgjT"><button class="MuiButtonBase-root MuiIconButton-root jss6" tabindex="0" type="button" title="Collapse Code Help box" style="float: right;"><span class="MuiIconButton-label"><i sizevalue="24px" class="rmwc-icon google-material-icons sc-gKXOVf jWA-DLP">keyboard_arrow_up</i></span><span class="MuiTouchRipple-root"></span></button></div></div><div class="sc-fgjZeG gtQwGX"><div class="sc-WJksd bUFLJZ"><div aria-live="assertive" aria-atomic="true" aria-hidden="true" class="sc-ejRpRk hotkDR mdc-snackbar mdc-snackbar--leading"><div class="mdc-snackbar__surface"><div role="status" aria-live="polite" class="mdc-snackbar__label">Copied!<div style="display: none;"></div></div><div class="mdc-snackbar__actions"><i aria-hidden="true" role="button" tabindex="0" data-mdc-ripple-is-unbounded="true" class="rmwc-icon google-material-icons mdc-snackbar__dismiss mdc-ripple-upgraded--unbounded mdc-ripple-upgraded mdc-snackbar__dismiss mdc-icon-button" style="--mdc-ripple-fg-size:0px; --mdc-ripple-fg-scale:NaN; --mdc-ripple-left:0px; --mdc-ripple-top:0px;">close</i></div></div></div><label class="mdc-ripple-upgraded sc-hbyLVd kYCWKq sc-jJUdvr ftNhpX mdc-text-field mdc-text-field--upgraded mdc-text-field--outlined mdc-text-field--with-leading-icon" aria-labelledby="textfield-Find Code Help-label"><i sizevalue="24px" class="rmwc-icon google-material-icons sc-gKXOVf jWA-DLP mdc-text-field__icon mdc-text-field__icon--leading">search</i><span class="mdc-text-field__ripple"></span><input class="mdc-text-field__input" placeholder="Find Code Help" value=""><div class="mdc-notched-outline mdc-notched-outline--upgraded mdc-notched-outline--notched" notch="93.75"><div class="mdc-notched-outline__leading"></div><div class="mdc-notched-outline__notch" style="width: 101.75px;"><span id="textfield-Find Code Help-label" class="mdc-floating-label mdc-floating-label--float-above" style="">Find Code Help</span></div><div class="mdc-notched-outline__trailing"></div></div></label><div class="sc-jrVuhE cCRKHw"><div>Search for examples of how to do things</div></div></div></div></div></div></div></div></div></div><div class="sc-hKdnnL kgGgDA" style="position: relative; flex-basis: 40px; display: flex; flex-direction: column;"><div direction="vertical" class="sc-liHMlC bQdSAa"><div role="separator" aria-orientation="horizontal"></div></div><div style="height: 40px;"><div class="sc-gwrZSg WNhsO"><div class="sc-cHPJYQ dKewhd"><div class="sc-feEefj jEHHUo">Console</div><button title="Show console" class="sc-bXiZrO sc-dMvzMD eXHZBF iuncLJ"><i sizevalue="20px" class="rmwc-icon google-material-icons sc-gKXOVf jWAFrv">keyboard_arrow_up</i></button></div></div></div></div><span></span></div></div><div class="sc-dwVMhp iQUGDN"></div><div aria-live="assertive" aria-atomic="true" aria-hidden="true" class="sc-kOZHUs hynIoa mdc-snackbar mdc-snackbar--leading"><div class="mdc-snackbar__surface"><div role="status" aria-live="polite" class="mdc-snackbar__label"><div style="display: none;"></div></div><div class="mdc-snackbar__actions"></div></div></div></div></div></div><div id="modal-root"></div>
<script nonce="">
    window.dataLayer = window.dataLayer || [];
    function gtag() { dataLayer.push(arguments); }
    gtag('js', new Date());
    gtag('config', 'UA-12629138-1', {
        'optimize_id': 'GTM-52LNT9S',
        'displayFeaturesTask': null,
        'send_page_view': false,
    });
</script>
<script nonce="" async="" src="./Airplane Crashes &amp; Fatalities Since 1908 _ Kaggle_files/js(1)"></script>
<div aria-hidden="true" class="mdc-menu sc-hNKHps ipIOou mdc-menu-surface" style="transform-origin: left top; left: 416.594px; top: 69px; max-height: 556px;"><div role="menu" class="mdc-list mdc-menu__items mdc-list"><div role="menuitem" tabindex="0" class="sc-gITdmR jTHIvj mdc-ripple-upgraded sc-gITdmR jTHIvj mdc-list-item" style="--mdc-ripple-fg-size:153px; --mdc-ripple-fg-scale:1.76772; --mdc-ripple-fg-translate-start:-31.0938px, -67.5px; --mdc-ripple-fg-translate-end:51.5px, -52.5px;"><div class="sc-fIavCj DfIAO"><p class="sc-cxabCf sc-llJcti bGyNSd hMXWEN">Code</p></div></div><div role="menuitem" tabindex="0" class="sc-gITdmR jTHIvj mdc-ripple-upgraded sc-gITdmR jTHIvj mdc-list-item"><div class="sc-fIavCj DfIAO"><p class="sc-cxabCf sc-llJcti bGyNSd hMXWEN">Markdown</p></div></div></div></div><div aria-hidden="true" class="mdc-menu sc-hNKHps ipIOou sc-cKkZIC cJsKoi mdc-menu-surface" style="transform-origin: left top; left: 0px; top: 0px; max-height: 625px;"><div role="menu" class="mdc-list mdc-menu__items mdc-list"><div role="menuitem" tabindex="0" class="sc-gITdmR jTHIvj mdc-ripple-upgraded sc-gITdmR jTHIvj mdc-list-item"><div class="sc-fIavCj DfIAO"><i sizevalue="24px" class="rmwc-icon google-material-icons sc-gKXOVf jWA-DLP sc-evrZIY elCeHP">settings_backup_restore</i><p class="sc-cxabCf sc-llJcti bGyNSd hMXWEN"><p class="sc-cxabCf sc-llJcti jBwIGx hMXWEN">Restart &amp; Clear Cell Outputs</p></p></div></div><div role="menuitem" tabindex="0" class="sc-gITdmR jTHIvj mdc-ripple-upgraded sc-gITdmR jTHIvj mdc-list-item"><div class="sc-fIavCj DfIAO"><i sizevalue="24px" class="rmwc-icon google-material-icons sc-gKXOVf jWA-DLP sc-evrZIY elCeHP">info</i><p class="sc-cxabCf sc-llJcti bGyNSd hMXWEN"><p class="sc-cxabCf sc-llJcti jBwIGx hMXWEN">View Session Metrics</p></p></div></div><div role="menuitem" tabindex="0" class="sc-gITdmR jTHIvj mdc-ripple-upgraded sc-gITdmR jTHIvj mdc-list-item"><div class="sc-fIavCj DfIAO"><i sizevalue="24px" class="rmwc-icon google-material-icons sc-gKXOVf jWA-DLP sc-evrZIY elCeHP">open_in_new</i><p class="sc-cxabCf sc-llJcti bGyNSd hMXWEN"><p class="sc-cxabCf sc-llJcti jBwIGx hMXWEN">Upgrade to Google Cloud AI Notebooks</p></p></div></div><div role="menuitem" tabindex="0" class="sc-gITdmR jTHIvj mdc-ripple-upgraded sc-gITdmR jTHIvj mdc-list-item"><div class="sc-fIavCj DfIAO"><i sizevalue="24px" class="rmwc-icon google-material-icons sc-gKXOVf jWA-DLP sc-evrZIY elCeHP">memory</i><p class="sc-cxabCf sc-llJcti bGyNSd hMXWEN"><div style="display: flex;"><span>Accelerator</span><div class="sc-cZbDLb BxXJD mdc-menu-surface--anchor"><i color="#47494D" sizevalue="24px" class="rmwc-icon google-material-icons sc-gKXOVf iZPjFO">arrow_right</i></div></div></p></div></div></div></div><div class="sc-fpSgtw cDpJsG sc-fbccrT dYAVsM mdc-menu-surface"><div role="document"><div class="sc-bTGXEy fnkpFX"><ul class="km-list km-list--icon km-list--three-line sc-QZtbI sxjFK"><li class="sc-lbxAil bibdZV"><div class="sc-iNWwEs iYaBFN sc-iaaXxT ifoAek"><a class="sc-ehmTmK hHEGzd"><div class="sc-jfmDQi jFmASs"><div class="sc-eKszNL fAfAuF"><img src="./Airplane Crashes &amp; Fatalities Since 1908 _ Kaggle_files/default-thumb.png"></div><div class="sc-gFGZVQ ecSigw"><div class="sc-iBkjds sc-fLlhyt sc-ckMVTt uVZhN izULIq fxTcSG">Airplane Crashes &amp; Fatalities Since 1908</div><span class="sc-jIZahH sc-himrzO sc-GVOUr kdTVzc glCpMy haExgv">Interactive Session </span><span class="sc-jIZahH sc-himrzO sc-GVOUr kdTVzc glCpMy haExgv">Running: <span>12 minutes</span></span></div></div></a><div class="sc-lbOyJj duupuj"><div class="sc-cTVAEU VUUTQ"><p class="sc-iIPllB sc-gicCDI OBzPi dDCeGO"><span>12 minutes</span></p><div class="mdc-menu-surface--anchor"><button aria-label="more_horiz" class="sc-jSMfEi bWdumZ undefined google-material-icons">more_horiz</button></div></div></div></div></li></ul><ul class="km-list"><li class="sc-lbxAil bibdZV"><div class="sc-iNWwEs iYaBFN sc-fuDQes cImAVn"><a class="sc-ehmTmK hHEGzd"><div class="sc-jfmDQi jFmASs"><div class="sc-eKszNL fAfAuF"><div class="sc-emzajo iStZkz"><i emphasis="high" sizevalue="24px" class="rmwc-icon google-material-icons sc-gKXOVf jWA-DLP sc-bqepDp gcGhjc">auto_awesome_motion</i><div color="#FAE041" class="sc-XIDsO ecrmQm">1</div></div></div><div class="sc-iBkjds sc-fLlhyt sc-ckMVTt uVZhN izULIq fxTcSG"><p class="sc-cxabCf sc-llJcti ieLZFa hMXWEN">1 Active Event</p></div></div></a><div class="sc-lbOyJj duupuj"><i emphasis="high" sizevalue="24px" role="button" tabindex="0" class="rmwc-icon google-material-icons sc-gKXOVf jWA-DLP">expand_more</i></div></div></li></ul></div></div></div><div aria-hidden="true" class="mdc-menu sc-hNKHps ipIOou sc-jhRauI itEWYr sc-bLTNOh fRUCvl mdc-menu-surface" style="transform-origin: left top; left: 0px; top: 0px; max-height: 625px;"><div role="menu" class="mdc-list mdc-menu__items mdc-list"><div role="menuitem" tabindex="0" class="sc-gITdmR jTHIvj mdc-ripple-upgraded sc-gITdmR jTHIvj mdc-list-item"><div class="sc-fIavCj DfIAO"><i sizevalue="24px" class="rmwc-icon google-material-icons sc-gKXOVf jWA-DLP sc-evrZIY elCeHP">check</i><p class="sc-cxabCf sc-llJcti bGyNSd hMXWEN"><p class="sc-cxabCf sc-llJcti jBwIGx hMXWEN">None</p></p></div></div><div role="menuitem" tabindex="0" class="sc-gITdmR jTHIvj mdc-ripple-upgraded sc-gITdmR jTHIvj mdc-list-item"><div class="sc-fIavCj DfIAO"><p class="sc-cxabCf sc-llJcti bGyNSd hMXWEN"><p class="sc-cxabCf sc-llJcti jBwIGx hMXWEN">GPU</p></p></div></div><div role="menuitem" tabindex="0" class="sc-gITdmR jTHIvj mdc-ripple-upgraded sc-gITdmR jTHIvj mdc-list-item"><div class="sc-fIavCj DfIAO"><p class="sc-cxabCf sc-llJcti bGyNSd hMXWEN"><p class="sc-cxabCf sc-llJcti jBwIGx hMXWEN">TPU v3-8</p></p></div></div></div></div><div><div class="grecaptcha-badge" data-style="bottomright" style="width: 256px; height: 60px; display: block; transition: right 0.3s ease 0s; position: fixed; bottom: 14px; right: -186px; box-shadow: gray 0px 0px 5px; border-radius: 2px; overflow: hidden;"><div class="grecaptcha-logo"><iframe title="reCAPTCHA" src="./Airplane Crashes &amp; Fatalities Since 1908 _ Kaggle_files/anchor.html" width="256" height="60" role="presentation" name="a-e1ueod39k4ue" frameborder="0" scrolling="no" sandbox="allow-forms allow-popups allow-same-origin allow-scripts allow-top-navigation allow-modals allow-popups-to-escape-sandbox allow-storage-access-by-user-activation"></iframe></div><div class="grecaptcha-error"></div><textarea id="g-recaptcha-response-100000" name="g-recaptcha-response" class="g-recaptcha-response" style="width: 250px; height: 40px; border: 1px solid rgb(193, 193, 193); margin: 10px 25px; padding: 0px; resize: none; display: none;"></textarea></div><iframe style="display: none;" src="./Airplane Crashes &amp; Fatalities Since 1908 _ Kaggle_files/saved_resource.html"></iframe></div><div aria-hidden="true" class="mdc-menu sc-hNKHps ipIOou sc-jqJClL gIyZbK mdc-menu-surface"><div role="menu" class="mdc-list mdc-menu__items mdc-list"><a href="https://www.kaggle.com/s/28636083/edit" target="_blank" class="sc-duzrYq jtgvgB"><div role="menuitem" tabindex="0" class="sc-gITdmR jTHIvj mdc-ripple-upgraded sc-gITdmR jTHIvj mdc-list-item"><div class="sc-fIavCj DfIAO"><i sizevalue="24px" class="rmwc-icon google-material-icons sc-gKXOVf jWA-DLP sc-evrZIY elCeHP">edit</i><p class="sc-cxabCf sc-llJcti bGyNSd hMXWEN">Edit</p></div></div></a><div role="menuitem" tabindex="0" class="sc-gITdmR jTHIvj mdc-ripple-upgraded sc-gITdmR jTHIvj mdc-list-item"><div class="sc-fIavCj DfIAO"><i sizevalue="24px" class="rmwc-icon google-material-icons sc-gKXOVf jWA-DLP sc-evrZIY elCeHP">stop</i><p class="sc-cxabCf sc-llJcti bGyNSd hMXWEN">Stop Session</p></div></div></div></div></body></html>